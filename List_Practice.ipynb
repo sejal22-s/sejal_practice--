{
 "cells": [
  {
   "cell_type": "code",
   "execution_count": 25,
   "id": "28bd18b0-5eb5-4bc0-9211-6bd7d6e2dd22",
   "metadata": {},
   "outputs": [],
   "source": [
    "l1=[1,2,4,45,7,8]"
   ]
  },
  {
   "cell_type": "code",
   "execution_count": 2,
   "id": "142c5a99-d154-47eb-a9b6-1c1548fc332d",
   "metadata": {},
   "outputs": [],
   "source": [
    "l2=[\"Jayesh\",\"Sejal\",\"Sam\",\"Gaurav\"]"
   ]
  },
  {
   "cell_type": "code",
   "execution_count": 3,
   "id": "28a7d962-0a73-47ea-bfe7-f7a65fd888d7",
   "metadata": {},
   "outputs": [],
   "source": [
    "l3=[2,6,9,\"Jayesh\",\"Pune\",\"Mumbai\"]"
   ]
  },
  {
   "cell_type": "code",
   "execution_count": 4,
   "id": "d70b0222-a91d-49b4-987f-2176ba398e43",
   "metadata": {},
   "outputs": [
    {
     "data": {
      "text/plain": [
       "list"
      ]
     },
     "execution_count": 4,
     "metadata": {},
     "output_type": "execute_result"
    }
   ],
   "source": [
    "type(l1)"
   ]
  },
  {
   "cell_type": "code",
   "execution_count": 5,
   "id": "7c194282-9316-4379-9da4-7723d50fe7e3",
   "metadata": {},
   "outputs": [
    {
     "data": {
      "text/plain": [
       "list"
      ]
     },
     "execution_count": 5,
     "metadata": {},
     "output_type": "execute_result"
    }
   ],
   "source": [
    "type(l2)"
   ]
  },
  {
   "cell_type": "code",
   "execution_count": 6,
   "id": "99683313-8dde-4318-8b9f-dc6aeec3d750",
   "metadata": {},
   "outputs": [],
   "source": [
    "l4=[2,5,[30,25],[80,90]]"
   ]
  },
  {
   "cell_type": "code",
   "execution_count": 8,
   "id": "181eb50e-f004-4083-9c92-653689699312",
   "metadata": {},
   "outputs": [
    {
     "data": {
      "text/plain": [
       "4"
      ]
     },
     "execution_count": 8,
     "metadata": {},
     "output_type": "execute_result"
    }
   ],
   "source": [
    "len(l4)"
   ]
  },
  {
   "cell_type": "code",
   "execution_count": 1,
   "id": "78b10326-583e-4496-b248-c0ee9d9188ed",
   "metadata": {},
   "outputs": [],
   "source": [
    "mylist=['One','Two','Three','Four','Five','Six','Seven']"
   ]
  },
  {
   "cell_type": "code",
   "execution_count": 2,
   "id": "46a3dea8-6f26-45ad-ae27-7aaef8efa64d",
   "metadata": {},
   "outputs": [
    {
     "data": {
      "text/plain": [
       "'Three'"
      ]
     },
     "execution_count": 2,
     "metadata": {},
     "output_type": "execute_result"
    }
   ],
   "source": [
    "mylist[2]"
   ]
  },
  {
   "cell_type": "code",
   "execution_count": 3,
   "id": "440396b7-4211-4396-8aa3-a3ddfbdc8a52",
   "metadata": {},
   "outputs": [
    {
     "data": {
      "text/plain": [
       "['One', 'Two', 'Three', 'Four', 'Five']"
      ]
     },
     "execution_count": 3,
     "metadata": {},
     "output_type": "execute_result"
    }
   ],
   "source": [
    "mylist[0:5]"
   ]
  },
  {
   "cell_type": "code",
   "execution_count": 4,
   "id": "b7537fc6-168c-4b26-8afb-0ee6b4f87b5f",
   "metadata": {},
   "outputs": [
    {
     "data": {
      "text/plain": [
       "['Six', 'Four', 'Two']"
      ]
     },
     "execution_count": 4,
     "metadata": {},
     "output_type": "execute_result"
    }
   ],
   "source": [
    "mylist[5:0:-2]"
   ]
  },
  {
   "cell_type": "code",
   "execution_count": 5,
   "id": "549ee907-c306-48c7-b661-bab6e6aaa041",
   "metadata": {},
   "outputs": [
    {
     "data": {
      "text/plain": [
       "['Four']"
      ]
     },
     "execution_count": 5,
     "metadata": {},
     "output_type": "execute_result"
    }
   ],
   "source": [
    "mylist[3:4]"
   ]
  },
  {
   "cell_type": "code",
   "execution_count": 6,
   "id": "cb11e017-4f19-45b7-9f33-40be8eb110bf",
   "metadata": {},
   "outputs": [
    {
     "data": {
      "text/plain": [
       "[]"
      ]
     },
     "execution_count": 6,
     "metadata": {},
     "output_type": "execute_result"
    }
   ],
   "source": [
    "mylist[6:6]"
   ]
  },
  {
   "cell_type": "code",
   "execution_count": 7,
   "id": "4e5f274d-618c-4783-9615-99cc97e87f78",
   "metadata": {},
   "outputs": [
    {
     "data": {
      "text/plain": [
       "['Seven']"
      ]
     },
     "execution_count": 7,
     "metadata": {},
     "output_type": "execute_result"
    }
   ],
   "source": [
    "mylist[6:5:-1]"
   ]
  },
  {
   "cell_type": "code",
   "execution_count": 8,
   "id": "5d5f6dcc-5d1f-4765-989c-d5e2377bedb4",
   "metadata": {},
   "outputs": [
    {
     "data": {
      "text/plain": [
       "['Seven']"
      ]
     },
     "execution_count": 8,
     "metadata": {},
     "output_type": "execute_result"
    }
   ],
   "source": [
    "mylist[6:7:1]"
   ]
  },
  {
   "cell_type": "code",
   "execution_count": 9,
   "id": "8acbe6e6-02b4-4676-a407-c76c78d8dfc0",
   "metadata": {},
   "outputs": [
    {
     "data": {
      "text/plain": [
       "['One', 'Two', 'Three', 'Four', 'Five', 'Six', 'Seven', 'Eight']"
      ]
     },
     "execution_count": 9,
     "metadata": {},
     "output_type": "execute_result"
    }
   ],
   "source": [
    "mylist.append('Eight')\n",
    "mylist"
   ]
  },
  {
   "cell_type": "code",
   "execution_count": 10,
   "id": "4a86aa43-dc04-4cfb-93ea-20f63c12b0f6",
   "metadata": {},
   "outputs": [
    {
     "data": {
      "text/plain": [
       "'Eight'"
      ]
     },
     "execution_count": 10,
     "metadata": {},
     "output_type": "execute_result"
    }
   ],
   "source": [
    "mylist.pop(7)"
   ]
  },
  {
   "cell_type": "code",
   "execution_count": 11,
   "id": "479c2e08-89a2-4d8e-b564-5b4500c02867",
   "metadata": {},
   "outputs": [
    {
     "data": {
      "text/plain": [
       "['One', 'Two', 'Three', 'Four', 'Five', 'Six', 'Seven']"
      ]
     },
     "execution_count": 11,
     "metadata": {},
     "output_type": "execute_result"
    }
   ],
   "source": [
    "mylist"
   ]
  },
  {
   "cell_type": "code",
   "execution_count": 12,
   "id": "08716532-09b6-4444-9d2d-9ac3d29eb154",
   "metadata": {},
   "outputs": [],
   "source": [
    "mylist.insert(9,'Nine')\n"
   ]
  },
  {
   "cell_type": "code",
   "execution_count": 13,
   "id": "9f72e7b8-0e62-49c6-996f-f0ae9158ac9a",
   "metadata": {},
   "outputs": [
    {
     "data": {
      "text/plain": [
       "['One', 'Two', 'Three', 'Four', 'Five', 'Six', 'Seven', 'Nine']"
      ]
     },
     "execution_count": 13,
     "metadata": {},
     "output_type": "execute_result"
    }
   ],
   "source": [
    "mylist"
   ]
  },
  {
   "cell_type": "code",
   "execution_count": 14,
   "id": "9a5c44ee-e504-4f17-a3d9-343eb2698de2",
   "metadata": {},
   "outputs": [],
   "source": [
    "mylist.remove('One')"
   ]
  },
  {
   "cell_type": "code",
   "execution_count": 15,
   "id": "26946b8d-e8a9-42e1-9a26-71c2dd7c36bb",
   "metadata": {},
   "outputs": [
    {
     "data": {
      "text/plain": [
       "['Two', 'Three', 'Four', 'Five', 'Six', 'Seven', 'Nine']"
      ]
     },
     "execution_count": 15,
     "metadata": {},
     "output_type": "execute_result"
    }
   ],
   "source": [
    "mylist"
   ]
  },
  {
   "cell_type": "code",
   "execution_count": 16,
   "id": "7508e211-f86c-4f16-835d-db703b6ed242",
   "metadata": {},
   "outputs": [],
   "source": [
    "list1= ['One','Two','Three','Four']\n",
    "list2= ['Five','Six','Seven','Eight']"
   ]
  },
  {
   "cell_type": "code",
   "execution_count": 17,
   "id": "afb74372-04bf-4040-a825-c0896d5e07ef",
   "metadata": {},
   "outputs": [],
   "source": [
    "list3=list1+list2"
   ]
  },
  {
   "cell_type": "code",
   "execution_count": 18,
   "id": "f2af195e-3637-4768-9a2a-5cd3cc8ba22f",
   "metadata": {},
   "outputs": [
    {
     "data": {
      "text/plain": [
       "['One', 'Two', 'Three', 'Four', 'Five', 'Six', 'Seven', 'Eight']"
      ]
     },
     "execution_count": 18,
     "metadata": {},
     "output_type": "execute_result"
    }
   ],
   "source": [
    "list3 "
   ]
  },
  {
   "cell_type": "code",
   "execution_count": 19,
   "id": "6929226d-4fa0-4399-b117-c003cd733de9",
   "metadata": {},
   "outputs": [],
   "source": [
    "list2.extend(list1)"
   ]
  },
  {
   "cell_type": "code",
   "execution_count": 20,
   "id": "3b992706-e966-415e-b8a0-def41bedfaae",
   "metadata": {},
   "outputs": [
    {
     "data": {
      "text/plain": [
       "['Five', 'Six', 'Seven', 'Eight', 'One', 'Two', 'Three', 'Four']"
      ]
     },
     "execution_count": 20,
     "metadata": {},
     "output_type": "execute_result"
    }
   ],
   "source": [
    "list2"
   ]
  },
  {
   "cell_type": "code",
   "execution_count": 21,
   "id": "e0134585-41e3-429a-b740-659978b9f535",
   "metadata": {},
   "outputs": [
    {
     "data": {
      "text/plain": [
       "True"
      ]
     },
     "execution_count": 21,
     "metadata": {},
     "output_type": "execute_result"
    }
   ],
   "source": [
    "'One' in list1"
   ]
  },
  {
   "cell_type": "code",
   "execution_count": 22,
   "id": "6d8e41cb-0017-476b-9362-0ec7168041f9",
   "metadata": {},
   "outputs": [
    {
     "data": {
      "text/plain": [
       "False"
      ]
     },
     "execution_count": 22,
     "metadata": {},
     "output_type": "execute_result"
    }
   ],
   "source": [
    "5 in list1"
   ]
  },
  {
   "cell_type": "code",
   "execution_count": 27,
   "id": "da9de688-8bad-4e53-b772-331ec03086f3",
   "metadata": {},
   "outputs": [
    {
     "data": {
      "text/plain": [
       "True"
      ]
     },
     "execution_count": 27,
     "metadata": {},
     "output_type": "execute_result"
    }
   ],
   "source": [
    "45 in l1"
   ]
  },
  {
   "cell_type": "code",
   "execution_count": 29,
   "id": "9626ab81-51d7-446e-9cf2-825fb141dc5a",
   "metadata": {},
   "outputs": [],
   "source": [
    "List=[32,7,86,5,9,36,5,39,48,7]"
   ]
  },
  {
   "cell_type": "code",
   "execution_count": 31,
   "id": "8b6a4227-ce3e-4769-9e38-997a7c7d3c0d",
   "metadata": {},
   "outputs": [],
   "source": [
    "List.reverse()"
   ]
  },
  {
   "cell_type": "code",
   "execution_count": 32,
   "id": "8d56d8dd-2282-401b-b346-a9b9bda09d69",
   "metadata": {},
   "outputs": [
    {
     "data": {
      "text/plain": [
       "[7, 48, 39, 5, 36, 9, 5, 86, 7, 32]"
      ]
     },
     "execution_count": 32,
     "metadata": {},
     "output_type": "execute_result"
    }
   ],
   "source": [
    "List"
   ]
  },
  {
   "cell_type": "code",
   "execution_count": 33,
   "id": "60191520-fce0-4e9a-b710-1538aef845f1",
   "metadata": {},
   "outputs": [],
   "source": [
    "List.sort()"
   ]
  },
  {
   "cell_type": "code",
   "execution_count": 34,
   "id": "17f87081-8832-4387-84d9-c3ff65e1fa2e",
   "metadata": {},
   "outputs": [
    {
     "data": {
      "text/plain": [
       "[5, 5, 7, 7, 9, 32, 36, 39, 48, 86]"
      ]
     },
     "execution_count": 34,
     "metadata": {},
     "output_type": "execute_result"
    }
   ],
   "source": [
    "List"
   ]
  },
  {
   "cell_type": "code",
   "execution_count": 36,
   "id": "43ce7350-12d7-4bd6-96e0-2bff06e9b524",
   "metadata": {},
   "outputs": [],
   "source": [
    "List1=[32,45,78,'Cat','Dog','Mouse']"
   ]
  },
  {
   "cell_type": "code",
   "execution_count": 45,
   "id": "5dd621ea-daeb-4d5a-b150-028b8f12afda",
   "metadata": {},
   "outputs": [],
   "source": [
    "L1=[1,2,3,4,5,6]\n",
    "L2=[3,4,5,6,7,0]"
   ]
  },
  {
   "cell_type": "code",
   "execution_count": 46,
   "id": "258d8bc0-2149-415b-9e74-5b9ba3eb4ff8",
   "metadata": {},
   "outputs": [
    {
     "data": {
      "text/plain": [
       "True"
      ]
     },
     "execution_count": 46,
     "metadata": {},
     "output_type": "execute_result"
    }
   ],
   "source": [
    "all(L1)"
   ]
  },
  {
   "cell_type": "code",
   "execution_count": 47,
   "id": "5bd8687f-b17a-4d90-9d33-d1ff22fa7bb0",
   "metadata": {},
   "outputs": [
    {
     "data": {
      "text/plain": [
       "False"
      ]
     },
     "execution_count": 47,
     "metadata": {},
     "output_type": "execute_result"
    }
   ],
   "source": [
    "all(L2)"
   ]
  },
  {
   "cell_type": "code",
   "execution_count": 43,
   "id": "be8750cc-b540-4943-b28c-c60c11240266",
   "metadata": {},
   "outputs": [],
   "source": [
    "L3=[12,3,4,'Jayesh']"
   ]
  },
  {
   "cell_type": "code",
   "execution_count": 44,
   "id": "515e74a8-11a0-4cf4-b18c-467856def422",
   "metadata": {},
   "outputs": [
    {
     "data": {
      "text/plain": [
       "True"
      ]
     },
     "execution_count": 44,
     "metadata": {},
     "output_type": "execute_result"
    }
   ],
   "source": [
    "all(L3)"
   ]
  },
  {
   "cell_type": "code",
   "execution_count": 48,
   "id": "a207871b-3468-4702-a6d7-a8c736f3dcbc",
   "metadata": {},
   "outputs": [
    {
     "data": {
      "text/plain": [
       "True"
      ]
     },
     "execution_count": 48,
     "metadata": {},
     "output_type": "execute_result"
    }
   ],
   "source": [
    "any(L1)"
   ]
  },
  {
   "cell_type": "code",
   "execution_count": 49,
   "id": "3d2ad740-6898-4cb3-a266-54456ceb1939",
   "metadata": {},
   "outputs": [
    {
     "data": {
      "text/plain": [
       "True"
      ]
     },
     "execution_count": 49,
     "metadata": {},
     "output_type": "execute_result"
    }
   ],
   "source": [
    "any(L2)"
   ]
  },
  {
   "cell_type": "markdown",
   "id": "1d4b6cab-d27f-4a5a-9b91-f0022ff73341",
   "metadata": {},
   "source": [
    "# Tuple "
   ]
  },
  {
   "cell_type": "code",
   "execution_count": null,
   "id": "4aec667d-d6c5-4020-9f8d-1004ca0f2dee",
   "metadata": {},
   "outputs": [],
   "source": []
  },
  {
   "cell_type": "code",
   "execution_count": 2,
   "id": "caab6b95-076e-49a7-9d7a-68c3f69ead93",
   "metadata": {},
   "outputs": [],
   "source": [
    "tup1= (10,30,60)"
   ]
  },
  {
   "cell_type": "code",
   "execution_count": 3,
   "id": "3bf28bd2-f165-483e-8111-5da1d4eb3873",
   "metadata": {},
   "outputs": [],
   "source": [
    "tup2= (3,56,{50,700,80},89)"
   ]
  },
  {
   "cell_type": "code",
   "execution_count": 4,
   "id": "307bafeb-d76a-4b67-bcd5-fc35783d3c95",
   "metadata": {},
   "outputs": [
    {
     "data": {
      "text/plain": [
       "4"
      ]
     },
     "execution_count": 4,
     "metadata": {},
     "output_type": "execute_result"
    }
   ],
   "source": [
    "len(tup2)"
   ]
  },
  {
   "cell_type": "code",
   "execution_count": 5,
   "id": "5f6c4d5d-3aa8-49b9-8675-3cecbea2b761",
   "metadata": {},
   "outputs": [
    {
     "data": {
      "text/plain": [
       "56"
      ]
     },
     "execution_count": 5,
     "metadata": {},
     "output_type": "execute_result"
    }
   ],
   "source": [
    "tup2[1]"
   ]
  },
  {
   "cell_type": "code",
   "execution_count": 7,
   "id": "40054628-0c9c-4fac-aa81-8686fca2124a",
   "metadata": {},
   "outputs": [
    {
     "data": {
      "text/plain": [
       "(3,)"
      ]
     },
     "execution_count": 7,
     "metadata": {},
     "output_type": "execute_result"
    }
   ],
   "source": [
    "tup2[0:1]"
   ]
  },
  {
   "cell_type": "code",
   "execution_count": 8,
   "id": "5f398cf7-a7cc-472f-882a-d3be3d70fa87",
   "metadata": {},
   "outputs": [],
   "source": [
    "tup8=('Data', 25, [50, 100], [150, 90], ['David', 'John'], (99, 22, 33))"
   ]
  },
  {
   "cell_type": "code",
   "execution_count": 9,
   "id": "4956d9d5-132f-4a42-93ec-2ca9d0820526",
   "metadata": {},
   "outputs": [
    {
     "data": {
      "text/plain": [
       "'John'"
      ]
     },
     "execution_count": 9,
     "metadata": {},
     "output_type": "execute_result"
    }
   ],
   "source": [
    "tup8[4][1]"
   ]
  },
  {
   "cell_type": "code",
   "execution_count": 10,
   "id": "887487d5-946a-4d75-b3c4-48d0130397d7",
   "metadata": {},
   "outputs": [
    {
     "data": {
      "text/plain": [
       "[50, 100]"
      ]
     },
     "execution_count": 10,
     "metadata": {},
     "output_type": "execute_result"
    }
   ],
   "source": [
    "tup8[2]"
   ]
  },
  {
   "cell_type": "code",
   "execution_count": 15,
   "id": "e3285def-dd5d-43f6-92c3-16ab1dc7426b",
   "metadata": {},
   "outputs": [
    {
     "data": {
      "text/plain": [
       "33"
      ]
     },
     "execution_count": 15,
     "metadata": {},
     "output_type": "execute_result"
    }
   ],
   "source": [
    "tup8[5][2]"
   ]
  },
  {
   "cell_type": "code",
   "execution_count": 16,
   "id": "484955f6-dcf1-41ba-941d-c4895933a5f3",
   "metadata": {},
   "outputs": [
    {
     "data": {
      "text/plain": [
       "((99, 22, 33), ['David', 'John'], [150, 90], [50, 100], 25, 'Data')"
      ]
     },
     "execution_count": 16,
     "metadata": {},
     "output_type": "execute_result"
    }
   ],
   "source": [
    "tup8[::-1]"
   ]
  },
  {
   "cell_type": "code",
   "execution_count": 17,
   "id": "87875953-aec4-498d-b6e4-903d0a5b88c9",
   "metadata": {},
   "outputs": [
    {
     "data": {
      "text/plain": [
       "((99, 22, 33), ['David', 'John'], [150, 90], [50, 100], 25, 'Data')"
      ]
     },
     "execution_count": 17,
     "metadata": {},
     "output_type": "execute_result"
    }
   ],
   "source": [
    "tup8[::-1]"
   ]
  },
  {
   "cell_type": "code",
   "execution_count": 18,
   "id": "a335079a-c240-490e-bae5-0391f8b07b8e",
   "metadata": {},
   "outputs": [
    {
     "data": {
      "text/plain": [
       "('Data', 25, [50, 100], [150, 90], ['David', 'John'], (99, 22, 33))"
      ]
     },
     "execution_count": 18,
     "metadata": {},
     "output_type": "execute_result"
    }
   ],
   "source": [
    "tup8"
   ]
  },
  {
   "cell_type": "code",
   "execution_count": 20,
   "id": "bb6e66b6-a487-4488-8844-3f739db17636",
   "metadata": {},
   "outputs": [
    {
     "data": {
      "text/plain": [
       "('Data', [50, 100], ['David', 'John'])"
      ]
     },
     "execution_count": 20,
     "metadata": {},
     "output_type": "execute_result"
    }
   ],
   "source": [
    "tup8[::2]"
   ]
  },
  {
   "cell_type": "code",
   "execution_count": 21,
   "id": "fd0a3eab-0557-4125-bc7d-66fcd3ae82ed",
   "metadata": {},
   "outputs": [],
   "source": [
    "mytuple1=[1,1,1,1,2,2,2,3,5,6,6,3,3,9]"
   ]
  },
  {
   "cell_type": "code",
   "execution_count": 22,
   "id": "03cee034-d5d7-445e-be10-68c03aa673fa",
   "metadata": {},
   "outputs": [
    {
     "data": {
      "text/plain": [
       "4"
      ]
     },
     "execution_count": 22,
     "metadata": {},
     "output_type": "execute_result"
    }
   ],
   "source": [
    "mytuple1.count(1)"
   ]
  },
  {
   "cell_type": "code",
   "execution_count": 27,
   "id": "bcefbcc3-074c-43af-bb50-4cee9407beea",
   "metadata": {},
   "outputs": [
    {
     "data": {
      "text/plain": [
       "8"
      ]
     },
     "execution_count": 27,
     "metadata": {},
     "output_type": "execute_result"
    }
   ],
   "source": [
    "mytuple1.index(5)"
   ]
  },
  {
   "cell_type": "code",
   "execution_count": 28,
   "id": "76330742-5299-49fd-937d-0f03d45eecfb",
   "metadata": {},
   "outputs": [],
   "source": [
    "mytuple1.sort()"
   ]
  },
  {
   "cell_type": "code",
   "execution_count": 29,
   "id": "60e88ca1-59be-4a37-9eee-25bca60285f3",
   "metadata": {},
   "outputs": [
    {
     "data": {
      "text/plain": [
       "[1, 1, 1, 1, 2, 2, 2, 3, 3, 3, 5, 6, 6, 9]"
      ]
     },
     "execution_count": 29,
     "metadata": {},
     "output_type": "execute_result"
    }
   ],
   "source": [
    "mytuple1"
   ]
  },
  {
   "cell_type": "code",
   "execution_count": 30,
   "id": "42d118b9-20df-45dc-a8af-1cfbfdcd05e0",
   "metadata": {},
   "outputs": [
    {
     "data": {
      "text/plain": [
       "[1, 1, 1, 1, 2, 2, 2, 3, 3, 3, 5, 6, 6, 9]"
      ]
     },
     "execution_count": 30,
     "metadata": {},
     "output_type": "execute_result"
    }
   ],
   "source": [
    "sorted(mytuple1)"
   ]
  },
  {
   "cell_type": "code",
   "execution_count": null,
   "id": "dd54c29b-6b03-462c-b96b-a359e786d4d0",
   "metadata": {},
   "outputs": [],
   "source": []
  }
 ],
 "metadata": {
  "kernelspec": {
   "display_name": "Python 3 (ipykernel)",
   "language": "python",
   "name": "python3"
  },
  "language_info": {
   "codemirror_mode": {
    "name": "ipython",
    "version": 3
   },
   "file_extension": ".py",
   "mimetype": "text/x-python",
   "name": "python",
   "nbconvert_exporter": "python",
   "pygments_lexer": "ipython3",
   "version": "3.11.7"
  }
 },
 "nbformat": 4,
 "nbformat_minor": 5
}
