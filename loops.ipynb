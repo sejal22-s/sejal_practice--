{
 "cells": [
  {
   "cell_type": "code",
   "execution_count": 11,
   "id": "e47275f8-cd01-4dcc-8db0-47607718bf4f",
   "metadata": {},
   "outputs": [
    {
     "name": "stdin",
     "output_type": "stream",
     "text": [
      "Enter the correct username shree_sahu\n"
     ]
    },
    {
     "name": "stdout",
     "output_type": "stream",
     "text": [
      "Correct username\n"
     ]
    },
    {
     "name": "stdin",
     "output_type": "stream",
     "text": [
      "Enter the password iocwn\n"
     ]
    },
    {
     "name": "stdout",
     "output_type": "stream",
     "text": [
      "Incorrect Password\n",
      "Do you want to reset the password\n"
     ]
    },
    {
     "name": "stdin",
     "output_type": "stream",
     "text": [
      "Yes/No Yes\n"
     ]
    },
    {
     "name": "stdout",
     "output_type": "stream",
     "text": [
      "Enter new password\n"
     ]
    },
    {
     "name": "stdin",
     "output_type": "stream",
     "text": [
      " djnejlnl\n"
     ]
    },
    {
     "name": "stdout",
     "output_type": "stream",
     "text": [
      "Your Password djnejlnl is set\n"
     ]
    }
   ],
   "source": [
    "#reseting the username and password\n",
    "username=\"shree_sahu\"\n",
    "password=\"Shree@22\"\n",
    "user=input(\"Enter the correct username\")\n",
    "if(username==user):\n",
    "    print(\"Correct username\")\n",
    "else:\n",
    "    print(\"Incorrect Username\")\n",
    "    if(username!=user):\n",
    "        print(\"Do you want to reset the new usename?\")\n",
    "        a=input(\"Yes/No\")\n",
    "        if(a==\"Yes\"):\n",
    "            print(\"Reset the username\")\n",
    "            new_user=input(\"Enter the new username\")\n",
    "            print(\"Your Username\",new_user,\"is set\")\n",
    "        else:\n",
    "            print(\"Try again\")\n",
    "        \n",
    "               \n",
    "Pass=input(\"Enter the password\")\n",
    "if(password==Pass):\n",
    "    print(\"Correct password\")\n",
    "else:\n",
    "    print(\"Incorrect Password\")\n",
    "    print(\"Do you want to reset the password\")\n",
    "    c=input(\"Yes/No\")\n",
    "    if(c==\"Yes\"):\n",
    "        print(\"Enter new password\")\n",
    "        d=input()\n",
    "        print(\"Your Password\",d,\"is set\")\n",
    "        "
   ]
  },
  {
   "cell_type": "code",
   "execution_count": 13,
   "id": "e95c769f-a933-40c7-9858-f63d416d6637",
   "metadata": {},
   "outputs": [
    {
     "name": "stdout",
     "output_type": "stream",
     "text": [
      "current value 1\n",
      "current value 2\n",
      "current value 3\n",
      "current value 4\n",
      "current value 5\n",
      "current value 6\n",
      "current value 7\n",
      "current value 8\n",
      "current value 9\n"
     ]
    }
   ],
   "source": [
    "#Printing Current value\n",
    "for i in range(1,10,1):\n",
    "    print(\"current value\",i)"
   ]
  },
  {
   "cell_type": "code",
   "execution_count": 4,
   "id": "d6a70feb-ca1b-47c3-81ee-5c7bb95dc279",
   "metadata": {},
   "outputs": [
    {
     "name": "stdout",
     "output_type": "stream",
     "text": [
      "Current value 0\n",
      "Current value 1\n",
      "Current value 2\n",
      "Current value 3\n",
      "Current value 4\n",
      "Current value 5\n",
      "Current value 6\n",
      "Current value 7\n",
      "Current value 8\n",
      "Current value 9\n",
      "Current value 10\n"
     ]
    }
   ],
   "source": [
    "# printing current values using while\n",
    "i=0\n",
    "while(i<=10):\n",
    "    print(\"Current value\",i)\n",
    "    i=i+1"
   ]
  },
  {
   "cell_type": "code",
   "execution_count": 3,
   "id": "c7e9c71a-b254-4efc-b542-c24652f91fc6",
   "metadata": {},
   "outputs": [
    {
     "name": "stdout",
     "output_type": "stream",
     "text": [
      "111111111\n",
      "222222222\n",
      "333333333\n",
      "444444444\n",
      "555555555\n",
      "666666666\n",
      "777777777\n",
      "888888888\n",
      "999999999\n"
     ]
    }
   ],
   "source": [
    "line_to_print=''\n",
    "for i in range(1,10):\n",
    "    for j in range(0,9):\n",
    "        line_to_print+=str(i)\n",
    "    print(line_to_print)\n",
    "    line_to_print=''"
   ]
  },
  {
   "cell_type": "code",
   "execution_count": 4,
   "id": "ccf5d3b1-5ae6-4313-b420-6d6f821edf9e",
   "metadata": {},
   "outputs": [
    {
     "name": "stdout",
     "output_type": "stream",
     "text": [
      "UAE contains 3 letters!\n",
      "Thailand contains 8 letters!\n",
      "India contains 5 letters!\n"
     ]
    }
   ],
   "source": [
    "#looping over the list\n",
    "countries={'Thailand','India','UAE'}\n",
    "for country in countries:\n",
    "    print(country,'contains', len(country),'letters!')"
   ]
  },
  {
   "cell_type": "code",
   "execution_count": null,
   "id": "20d10527-e655-4233-bdd3-cea54c071d9e",
   "metadata": {},
   "outputs": [],
   "source": []
  }
 ],
 "metadata": {
  "kernelspec": {
   "display_name": "Python 3 (ipykernel)",
   "language": "python",
   "name": "python3"
  },
  "language_info": {
   "codemirror_mode": {
    "name": "ipython",
    "version": 3
   },
   "file_extension": ".py",
   "mimetype": "text/x-python",
   "name": "python",
   "nbconvert_exporter": "python",
   "pygments_lexer": "ipython3",
   "version": "3.11.7"
  }
 },
 "nbformat": 4,
 "nbformat_minor": 5
}
