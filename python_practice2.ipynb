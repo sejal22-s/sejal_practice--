{
 "cells": [
  {
   "cell_type": "markdown",
   "id": "2bb57653-f7bd-4b7c-a958-29f46c5f786c",
   "metadata": {},
   "source": [
    "# Write a program to demonstrate different number data types in Python."
   ]
  },
  {
   "cell_type": "code",
   "execution_count": 3,
   "id": "3d2e70f9-5640-4875-8d84-f5ae41194ab7",
   "metadata": {},
   "outputs": [
    {
     "name": "stdout",
     "output_type": "stream",
     "text": [
      "Datatype of a: <class 'float'>\n",
      "Datatype of b: <class 'str'>\n",
      "Datatype of c: <class 'int'>\n",
      "Datatype of d: <class 'bool'>\n"
     ]
    }
   ],
   "source": [
    "a=1.23\n",
    "b=\"sejal\"\n",
    "c=2\n",
    "d=True\n",
    "print(\"Datatype of a:\",type(a))\n",
    "print(\"Datatype of b:\",type(b))\n",
    "print(\"Datatype of c:\",type(c))\n",
    "print(\"Datatype of d:\",type(d))\n"
   ]
  },
  {
   "cell_type": "markdown",
   "id": "c1fd8760-c7d6-40ec-8012-7a0eb2580458",
   "metadata": {},
   "source": [
    "# Python Program to find sum of array"
   ]
  },
  {
   "cell_type": "code",
   "execution_count": 10,
   "id": "d587724c-26dc-4566-aab0-38175e42eae5",
   "metadata": {},
   "outputs": [],
   "source": [
    "def sumofarray(b):\n",
    "    add=0\n",
    "    for i in b:\n",
    "        add=add+i\n",
    "    return add\n",
    "        "
   ]
  },
  {
   "cell_type": "code",
   "execution_count": 11,
   "id": "67c1fadd-e0d4-453c-9dcf-a47254badcb9",
   "metadata": {},
   "outputs": [
    {
     "data": {
      "text/plain": [
       "10"
      ]
     },
     "execution_count": 11,
     "metadata": {},
     "output_type": "execute_result"
    }
   ],
   "source": [
    "sumofarray([1,2,3,4])"
   ]
  },
  {
   "cell_type": "markdown",
   "id": "da0323e4-574d-4c13-bb12-4387b563a4cf",
   "metadata": {},
   "source": [
    "# Write a program to create, concatenate and print a string and accessing sub-string from a given string"
   ]
  },
  {
   "cell_type": "code",
   "execution_count": 16,
   "id": "9bb6b9d8-a563-4264-9cef-e105eb134e65",
   "metadata": {},
   "outputs": [
    {
     "name": "stdin",
     "output_type": "stream",
     "text": [
      "Enter the string: sejal\n",
      "Enter the string: jayesh\n"
     ]
    },
    {
     "name": "stdout",
     "output_type": "stream",
     "text": [
      "The 1st string is: sejal\n",
      "The 2nd string is: jayesh\n",
      "concated string: sejaljayesh\n",
      "substring of s1: ej\n",
      "substring of s2: aye\n"
     ]
    }
   ],
   "source": [
    "s1=input(\"Enter the string:\")\n",
    "s2=input(\"Enter the string:\")\n",
    "print(\"The 1st string is:\",s1)\n",
    "print(\"The 2nd string is:\",s2)\n",
    "print(\"concated string:\",s1+s2)\n",
    "print(\"substring of s1:\",s1[1:3])\n",
    "print(\"substring of s2:\",s2[1:4])\n"
   ]
  },
  {
   "cell_type": "markdown",
   "id": "a468e195-f762-4111-825d-c644454f3f5e",
   "metadata": {},
   "source": [
    "# Write a python program to find largest of three numbers."
   ]
  },
  {
   "cell_type": "code",
   "execution_count": 22,
   "id": "affe5536-9f8c-4783-b20a-92b77256d927",
   "metadata": {},
   "outputs": [
    {
     "name": "stdin",
     "output_type": "stream",
     "text": [
      "Enter the 1st number 3\n",
      "Enter the 2nd number 4\n",
      "Enter the 3rd number 1\n"
     ]
    },
    {
     "name": "stdout",
     "output_type": "stream",
     "text": [
      "b is greater 4\n"
     ]
    }
   ],
   "source": [
    "a=int(input(\"Enter the 1st number\"))\n",
    "b=int(input(\"Enter the 2nd number\"))\n",
    "c=int(input(\"Enter the 3rd number\"))\n",
    "if(a>b) and (a>c):\n",
    "    print(\"a is greater\",a)\n",
    "elif(b>a) and (b>c):\n",
    "    print(\"b is greater\",b)\n",
    "else:\n",
    "    print(\"c is greater\",c)"
   ]
  },
  {
   "cell_type": "markdown",
   "id": "35dd1274-17bc-4127-9c56-14c33bb56da4",
   "metadata": {},
   "source": [
    "# Write a Python program to convert temperatures to and from Celsius, Fahrenheit. [ Formula: c = (f-32)(5/9)]\n",
    "\n"
   ]
  },
  {
   "cell_type": "code",
   "execution_count": 23,
   "id": "ef7492ef-c878-48e1-a058-b702c4e7ad72",
   "metadata": {},
   "outputs": [
    {
     "name": "stdin",
     "output_type": "stream",
     "text": [
      "Enter temprature 34.4\n",
      "Enter unit c\n"
     ]
    },
    {
     "name": "stdout",
     "output_type": "stream",
     "text": [
      "Temprature in ferenhite is 93.92\n"
     ]
    }
   ],
   "source": [
    "temp=float(input('Enter temprature'))\n",
    "unit=input('Enter unit')\n",
    "\n",
    "if unit=='C' or unit=='c':\n",
    "    newtemp=9/5*temp+32\n",
    "    print('Temprature in ferenhite is',newtemp)\n",
    "elif unit=='F' or unit=='f':\n",
    "    newtemp=5/9*(temp-32)\n",
    "    print('Temparture is celsius is',newtemp)\n",
    "else:\n",
    "    print('unknown unit passed')\n"
   ]
  },
  {
   "cell_type": "markdown",
   "id": "ede36816-3665-42b0-85b7-62e3dc527851",
   "metadata": {},
   "source": [
    "# Write a Python program to construct the following pattern, using a\n",
    " # nested for loop"
   ]
  },
  {
   "cell_type": "code",
   "execution_count": 32,
   "id": "7f9ceba8-0f94-494e-8efa-f73785092246",
   "metadata": {},
   "outputs": [
    {
     "name": "stdout",
     "output_type": "stream",
     "text": [
      "\n",
      "* \n",
      "* * \n",
      "* * * \n",
      "* * * * \n",
      "* * * * * \n",
      "* * * * * * \n",
      "* * * * * * * \n",
      "* * * * * * \n",
      "* * * * * \n",
      "* * * * \n",
      "* * * \n",
      "* * \n",
      "* \n"
     ]
    }
   ],
   "source": [
    "max = 6\n",
    "for i in range(0,max+1):\n",
    "    print(\"* \"*i)\n",
    "for i in range(max+1,0,-1):\n",
    "    print(\"* \"*i)"
   ]
  },
  {
   "cell_type": "markdown",
   "id": "c0f4927c-0d93-4a82-9d26-7bddc995cd5b",
   "metadata": {},
   "source": []
  },
  {
   "cell_type": "code",
   "execution_count": null,
   "id": "a1473392-8bb0-4659-a3c7-64d2477e31cc",
   "metadata": {},
   "outputs": [],
   "source": []
  }
 ],
 "metadata": {
  "kernelspec": {
   "display_name": "Python 3 (ipykernel)",
   "language": "python",
   "name": "python3"
  },
  "language_info": {
   "codemirror_mode": {
    "name": "ipython",
    "version": 3
   },
   "file_extension": ".py",
   "mimetype": "text/x-python",
   "name": "python",
   "nbconvert_exporter": "python",
   "pygments_lexer": "ipython3",
   "version": "3.11.7"
  }
 },
 "nbformat": 4,
 "nbformat_minor": 5
}
