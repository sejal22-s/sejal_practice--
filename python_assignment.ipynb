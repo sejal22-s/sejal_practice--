{
 "cells": [
  {
   "cell_type": "markdown",
   "id": "3aaebe93-da7e-48d5-a0bd-86152ec84424",
   "metadata": {},
   "source": [
    "# Write a Python program to print the following string in a specific format (see the output).\n",
    "Sample String : \"Twinkle, twinkle, little star, How I wonder what you are! Up above the world so high, Like a diamond in the sky. Twinkle, twinkle, little star, How I wonder what you are\" \n",
    "\n",
    "Output :\n",
    "\n",
    "Twinkle, twinkle, little star,\n",
    "\tHow I wonder what you are! \n",
    "\t\tUp above the world so high,   \t\t\n",
    "\t\tLike a diamond in the sky. \n",
    "Twinkle, twinkle, little star, \n",
    "\tHow I wonder what you are"
   ]
  },
  {
   "cell_type": "code",
   "execution_count": 4,
   "id": "b417aeee-6d92-4a60-8c4d-9986bd0d1689",
   "metadata": {},
   "outputs": [
    {
     "name": "stdout",
     "output_type": "stream",
     "text": [
      "Twinkle, twinkle, little star,\n",
      "\tHow I wonder what you are!\n",
      "\t\tUp above the world so high,\n",
      "\t\tLike a diamond in the sky.\n",
      "Twinkle, twinkle, little star,\n",
      "\tHow I wonder what you are\n"
     ]
    }
   ],
   "source": [
    "print(\"Twinkle, twinkle, little star,\\n\\tHow I wonder what you are!\\n\\t\\tUp above the world so high,\\n\\t\\tLike a diamond in the sky.\\nTwinkle, twinkle, little star,\\n\\tHow I wonder what you are\")"
   ]
  },
  {
   "cell_type": "markdown",
   "id": "412f5c3d-715a-48dd-bd84-be026b3ed6f9",
   "metadata": {},
   "source": [
    "# Write a Python program to get the Python version you are using"
   ]
  },
  {
   "cell_type": "code",
   "execution_count": 6,
   "id": "4458b7b2-8040-462c-bc04-24319d1cbda9",
   "metadata": {},
   "outputs": [
    {
     "name": "stdout",
     "output_type": "stream",
     "text": [
      "Python version:\n",
      "3.11.7 | packaged by Anaconda, Inc. | (main, Dec 15 2023, 18:05:47) [MSC v.1916 64 bit (AMD64)]\n",
      "Python info\n",
      "sys.version_info(major=3, minor=11, micro=7, releaselevel='final', serial=0)\n"
     ]
    }
   ],
   "source": [
    "import sys\n",
    "print(\"Python version:\")\n",
    "print(sys.version)\n",
    "print(\"Python info\")\n",
    "print(sys.version_info)"
   ]
  },
  {
   "cell_type": "markdown",
   "id": "e4aea557-2e07-4d5a-9979-1b6ad940d7ec",
   "metadata": {},
   "source": [
    "# Write a Python program to display the current date and time."
   ]
  },
  {
   "cell_type": "code",
   "execution_count": 15,
   "id": "7472f193-94f1-45cd-9be5-a8ea9ea2725a",
   "metadata": {},
   "outputs": [
    {
     "name": "stdout",
     "output_type": "stream",
     "text": [
      "Current date and time: 2024-10-15 11:37:05.343138\n"
     ]
    }
   ],
   "source": [
    "import datetime\n",
    "now=datetime.datetime.now()\n",
    "print(\"Current date and time:\",now)"
   ]
  },
  {
   "cell_type": "markdown",
   "id": "6c46cf17-49b4-4a4e-bf9e-8a1eeb6a46d2",
   "metadata": {},
   "source": [
    "# Write a Python program which accepts the radius of a circle from the user and compute the area"
   ]
  },
  {
   "cell_type": "code",
   "execution_count": 23,
   "id": "6474d3a0-175b-40cd-90b6-4e227a5ee5e2",
   "metadata": {},
   "outputs": [],
   "source": [
    "import numpy as np\n",
    "def areaofcircle():\n",
    "    r=float(input(\"Enter the radius of circle\"))\n",
    "    a=2*3.14*r*r\n",
    "    print(\"Area of Circle:\",a)"
   ]
  },
  {
   "cell_type": "code",
   "execution_count": 24,
   "id": "1edc8ce8-cca5-44cc-a2ec-3759873607ab",
   "metadata": {},
   "outputs": [
    {
     "name": "stdin",
     "output_type": "stream",
     "text": [
      "Enter the radius of circle 3\n"
     ]
    },
    {
     "name": "stdout",
     "output_type": "stream",
     "text": [
      "Area of Circle: 56.519999999999996\n"
     ]
    }
   ],
   "source": [
    "areaofcircle()"
   ]
  },
  {
   "cell_type": "markdown",
   "id": "eb86d315-5de6-4beb-a2a2-1774706c8360",
   "metadata": {},
   "source": [
    "# Write a Python program which accepts the user's first and last name and print them in reverse order with a space between them."
   ]
  },
  {
   "cell_type": "code",
   "execution_count": 27,
   "id": "0f19739a-df37-4eae-94bc-0dc9c8d72479",
   "metadata": {},
   "outputs": [],
   "source": [
    "def reversestring():\n",
    "    first_name=input(\"enter the first name\")\n",
    "    last_name=input(\"enter the last name\")\n",
    "    print(first_name[::-1],last_name[::-1])"
   ]
  },
  {
   "cell_type": "code",
   "execution_count": 29,
   "id": "629591b3-4867-4880-8138-e69fbe61ad93",
   "metadata": {},
   "outputs": [
    {
     "name": "stdin",
     "output_type": "stream",
     "text": [
      "enter the first name sejal\n",
      "enter the last name shri\n"
     ]
    },
    {
     "name": "stdout",
     "output_type": "stream",
     "text": [
      "lajes irhs\n"
     ]
    }
   ],
   "source": [
    "reversestring()"
   ]
  },
  {
   "cell_type": "markdown",
   "id": "30711a00-749e-4c16-8aff-7df5ccb584cf",
   "metadata": {},
   "source": [
    "# Write a Python program which accepts a sequence of comma-separated numbers from user and generate a list with those numbers\n"
   ]
  },
  {
   "cell_type": "code",
   "execution_count": 30,
   "id": "cfcf12f4-6f2b-4519-a150-6ddaacbfecec",
   "metadata": {},
   "outputs": [
    {
     "name": "stdin",
     "output_type": "stream",
     "text": [
      "Enter the sequence 1,2,3,4,5,5,6,5,6\n"
     ]
    },
    {
     "name": "stdout",
     "output_type": "stream",
     "text": [
      "['1', '2', '3', '4', '5', '5', '6', '5', '6']\n"
     ]
    }
   ],
   "source": [
    "values=input(\"Enter the sequence\")\n",
    "list1=values.split(\",\")\n",
    "print(list1)"
   ]
  },
  {
   "cell_type": "markdown",
   "id": "7aa696f8-7dd0-419f-b92b-dd3d2762f166",
   "metadata": {},
   "source": [
    "# Write a Python program to accept a filename from the user and print the extension of that\n"
   ]
  },
  {
   "cell_type": "code",
   "execution_count": 35,
   "id": "6b778213-8b08-48a2-9001-8bc687e231f1",
   "metadata": {},
   "outputs": [
    {
     "name": "stdin",
     "output_type": "stream",
     "text": [
      "enter the file name sejal.txt\n"
     ]
    },
    {
     "name": "stdout",
     "output_type": "stream",
     "text": [
      "txt\n"
     ]
    }
   ],
   "source": [
    "file_name=input(\"enter the file name\")\n",
    "a=file_name.split(\".\")\n",
    "print(a[1])"
   ]
  },
  {
   "cell_type": "markdown",
   "id": "5794ecab-f8ae-4078-8918-9c0bcdd528f2",
   "metadata": {},
   "source": [
    "# Write a Python program to display the first and last colors from the following list color_list = [\"yellow\",\"Green\",\"grey\" ,\"orange\"]\n"
   ]
  },
  {
   "cell_type": "code",
   "execution_count": 36,
   "id": "8ea40e0e-791e-4b63-afca-c76962df81b0",
   "metadata": {},
   "outputs": [
    {
     "name": "stdout",
     "output_type": "stream",
     "text": [
      "yellow\n",
      "Orange\n"
     ]
    }
   ],
   "source": [
    "color_list=[\"yellow\",\"Green\",\"Grey\",\"Orange\"]\n",
    "print(color_list[0])\n",
    "print(color_list[-1])"
   ]
  },
  {
   "cell_type": "markdown",
   "id": "7c6bfab9-b441-4b1a-9fc6-54f5159fdf6b",
   "metadata": {},
   "source": [
    "#  Write a Python program that accepts an integer (n) and computes the value of n+nn+nnn"
   ]
  },
  {
   "cell_type": "code",
   "execution_count": 42,
   "id": "c98a5fd9-e7fe-4e66-80c9-85cc02c6d956",
   "metadata": {},
   "outputs": [
    {
     "name": "stdin",
     "output_type": "stream",
     "text": [
      "Enter the values 12\n"
     ]
    },
    {
     "name": "stdout",
     "output_type": "stream",
     "text": [
      "122436\n"
     ]
    }
   ],
   "source": [
    "x=int(input(\"Enter the values\"))\n",
    "n1=int(\"%s\" % x)\n",
    "n2=int(\"%s%s\" % (x,x))\n",
    "n3=int(\"%s%s%s\" % (x,x,x))\n",
    "print (n1+n2+n3)"
   ]
  }
 ],
 "metadata": {
  "kernelspec": {
   "display_name": "Python 3 (ipykernel)",
   "language": "python",
   "name": "python3"
  },
  "language_info": {
   "codemirror_mode": {
    "name": "ipython",
    "version": 3
   },
   "file_extension": ".py",
   "mimetype": "text/x-python",
   "name": "python",
   "nbconvert_exporter": "python",
   "pygments_lexer": "ipython3",
   "version": "3.11.7"
  }
 },
 "nbformat": 4,
 "nbformat_minor": 5
}
