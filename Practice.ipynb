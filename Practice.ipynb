{
 "cells": [
  {
   "cell_type": "code",
   "execution_count": 14,
   "id": "8b8738db",
   "metadata": {},
   "outputs": [
    {
     "name": "stdout",
     "output_type": "stream",
     "text": [
      "Enter pin1234\n",
      "\n",
      " 1.Check Balance\n",
      "2.Deposite\n",
      "3.Withdraw\n",
      "4.Transfer\n",
      "Enter your choice :6\n",
      "you enter wrong choice\n"
     ]
    }
   ],
   "source": [
    "balance=1000\n",
    "fixamount=500\n",
    "pin=int(input(\"Enter pin\"))\n",
    "if(pin==1234):\n",
    "    print(\"\\n 1.Check Balance\\n2.Deposite\\n3.Withdraw\\n4.Transfer\")\n",
    "    ch=int(input(\"Enter your choice :\"))\n",
    "    if(ch==1):\n",
    "        print(\"Balance :\",balance)\n",
    "    elif(ch==2):\n",
    "        dep=float(input(\"Enter amount:\"))\n",
    "        balance=balance+dep\n",
    "        print(\"Balance :\",balance)\n",
    "    elif(ch==3):\n",
    "        wid=float(input(\"Enter amount:\"))\n",
    "        if(fixamount<=(balance-wid)):\n",
    "            balance=balance-wid\n",
    "            print(\"Balance :\",balance)\n",
    "        else:\n",
    "            print(\"insufficient amount\")\n",
    "    elif(ch==4):\n",
    "        trans=float(input(\"Enter amount:\"))\n",
    "        if(fixamount<=(balance-trans)):\n",
    "            balance=balance-trans\n",
    "            print(\"Balance :\",balance)\n",
    "        else:\n",
    "            print(\"insufficient amount\")\n",
    "    else:\n",
    "        print(\"you enter wrong choice\")\n",
    "else:\n",
    "    print(\"Incorrect pin\")"
   ]
  },
  {
   "cell_type": "code",
   "execution_count": 5,
   "id": "92b17242",
   "metadata": {},
   "outputs": [
    {
     "name": "stdout",
     "output_type": "stream",
     "text": [
      "2\n",
      "4\n",
      "6\n",
      "8\n",
      "10\n",
      "12\n",
      "14\n",
      "16\n",
      "18\n",
      "20\n",
      "Completed\n"
     ]
    }
   ],
   "source": [
    "a=1\n",
    "while(a<=10):\n",
    "    print(a*2)\n",
    "    a=a+1\n",
    "print(\"Completed\")"
   ]
  },
  {
   "cell_type": "code",
   "execution_count": 9,
   "id": "3e710031",
   "metadata": {},
   "outputs": [
    {
     "name": "stdout",
     "output_type": "stream",
     "text": [
      "15625\n"
     ]
    }
   ],
   "source": [
    "base = 5\n",
    "power=6\n",
    "res=1\n",
    "a=1\n",
    "while(a<=power):\n",
    "    res=res*base\n",
    "    a=a+1\n",
    "print(res)"
   ]
  },
  {
   "cell_type": "code",
   "execution_count": 6,
   "id": "e0f75581",
   "metadata": {},
   "outputs": [
    {
     "name": "stdout",
     "output_type": "stream",
     "text": [
      "1\n",
      "2\n",
      "3\n",
      "4\n",
      "6\n",
      "7\n",
      "8\n",
      "9\n",
      "10\n",
      "11\n"
     ]
    }
   ],
   "source": [
    "n=0\n",
    "while (n<=10):\n",
    "    n=n+1\n",
    "    if(n==5):\n",
    "        continue\n",
    "    print(n)\n",
    "    "
   ]
  },
  {
   "cell_type": "code",
   "execution_count": 7,
   "id": "224f890a",
   "metadata": {},
   "outputs": [
    {
     "name": "stdout",
     "output_type": "stream",
     "text": [
      "1\n",
      "2\n",
      "3\n",
      "4\n"
     ]
    }
   ],
   "source": [
    "n=0\n",
    "while (n<=10):\n",
    "    n=n+1\n",
    "    if(n==5):\n",
    "        break\n",
    "    print(n)\n",
    "    "
   ]
  },
  {
   "cell_type": "code",
   "execution_count": 8,
   "id": "26d9bc0b",
   "metadata": {},
   "outputs": [
    {
     "name": "stdout",
     "output_type": "stream",
     "text": [
      "1\n",
      "2\n",
      "3\n",
      "4\n",
      "5\n",
      "6\n",
      "7\n",
      "8\n",
      "9\n",
      "10\n",
      "11\n",
      "Else part\n"
     ]
    }
   ],
   "source": [
    "n=0\n",
    "while (n<=10):\n",
    "    n=n+1\n",
    "    print(n)\n",
    "else:\n",
    "    print(\"Else part\")\n",
    "    "
   ]
  },
  {
   "cell_type": "code",
   "execution_count": null,
   "id": "9f5c61ba",
   "metadata": {},
   "outputs": [],
   "source": []
  },
  {
   "cell_type": "code",
   "execution_count": null,
   "id": "8e3a7110",
   "metadata": {},
   "outputs": [],
   "source": [
    "'''jygfafa\n",
    "hjvdhds\n",
    "sLJDHSjd'''"
   ]
  },
  {
   "cell_type": "code",
   "execution_count": 20,
   "id": "e531bece",
   "metadata": {},
   "outputs": [
    {
     "name": "stdout",
     "output_type": "stream",
     "text": [
      "ENter number9\n",
      "Not prime\n"
     ]
    }
   ],
   "source": [
    "#WAP to check given number is prime or not.\n",
    "# num=int(input(\"ENter number\"))\n",
    "a=2\n",
    "c=0\n",
    "while(a<num):\n",
    "    if(num%a==0):\n",
    "        c=c+1\n",
    "        print(\"Not prime\")\n",
    "        break\n",
    "    a=a+1\n",
    "else:\n",
    "    print(\"Prime\")\n",
    "    \n",
    "    \n",
    "# if(c==0):\n",
    "#     print(\"Prime \")\n",
    "# else:\n",
    "#     print(\"not prime\")\n",
    "\n"
   ]
  },
  {
   "cell_type": "code",
   "execution_count": 18,
   "id": "4bd13939",
   "metadata": {},
   "outputs": [
    {
     "name": "stdout",
     "output_type": "stream",
     "text": [
      "1\n"
     ]
    }
   ],
   "source": [
    "a=1\n",
    "while(a<=5):\n",
    "    print(a)\n",
    "    a=a+1\n",
    "    break\n",
    "else:\n",
    "    print(\"Else\")"
   ]
  },
  {
   "cell_type": "code",
   "execution_count": 22,
   "id": "ae905772",
   "metadata": {},
   "outputs": [
    {
     "name": "stdout",
     "output_type": "stream",
     "text": [
      "36\n"
     ]
    }
   ],
   "source": [
    "num=123\n",
    "add=0\n",
    "\n",
    "while(num>0):  \n",
    "    rem=num%10\n",
    "    add=add+rem\n",
    "    num=num//10\n",
    "    \n",
    "print(add)"
   ]
  },
  {
   "cell_type": "code",
   "execution_count": 29,
   "id": "3f276c65",
   "metadata": {},
   "outputs": [
    {
     "data": {
      "text/plain": [
       "[2, 5, 8, 11, 14, 17, 20, 23]"
      ]
     },
     "execution_count": 29,
     "metadata": {},
     "output_type": "execute_result"
    }
   ],
   "source": [
    "list(range(2,24,3))"
   ]
  },
  {
   "cell_type": "code",
   "execution_count": 28,
   "id": "3d42f907",
   "metadata": {},
   "outputs": [
    {
     "name": "stdout",
     "output_type": "stream",
     "text": [
      "5\n",
      "10\n",
      "15\n",
      "20\n",
      "25\n",
      "30\n",
      "35\n",
      "40\n",
      "45\n",
      "50\n"
     ]
    }
   ],
   "source": [
    "for i in range(1,11):\n",
    "    print(i*5)"
   ]
  },
  {
   "cell_type": "code",
   "execution_count": 32,
   "id": "76e978d1",
   "metadata": {},
   "outputs": [
    {
     "name": "stdout",
     "output_type": "stream",
     "text": [
      "0\n",
      "1\n",
      "1\n",
      "2\n",
      "3\n",
      "5\n",
      "8\n",
      "13\n",
      "21\n",
      "34\n",
      "55\n",
      "89\n"
     ]
    }
   ],
   "source": [
    "n1=0\n",
    "n2=1\n",
    "print(n1)\n",
    "print(n2)\n",
    "for i in range(10):\n",
    "    n3=n1+n2\n",
    "    print(n3)\n",
    "    n1,n2=n2,n3"
   ]
  },
  {
   "cell_type": "code",
   "execution_count": null,
   "id": "4c08cdd5",
   "metadata": {},
   "outputs": [],
   "source": []
  }
 ],
 "metadata": {
  "kernelspec": {
   "display_name": "Python 3 (ipykernel)",
   "language": "python",
   "name": "python3"
  },
  "language_info": {
   "codemirror_mode": {
    "name": "ipython",
    "version": 3
   },
   "file_extension": ".py",
   "mimetype": "text/x-python",
   "name": "python",
   "nbconvert_exporter": "python",
   "pygments_lexer": "ipython3",
   "version": "3.11.5"
  }
 },
 "nbformat": 4,
 "nbformat_minor": 5
}
